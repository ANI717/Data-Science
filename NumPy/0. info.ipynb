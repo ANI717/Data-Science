{
 "cells": [
  {
   "cell_type": "code",
   "execution_count": null,
   "id": "5fcc91a6-69db-417c-a3fe-f36ca106467b",
   "metadata": {
    "tags": []
   },
   "outputs": [],
   "source": [
    "import numpy as np"
   ]
  },
  {
   "cell_type": "code",
   "execution_count": null,
   "id": "3acfdfad-1aae-4d2b-87b1-0f31baace586",
   "metadata": {
    "tags": []
   },
   "outputs": [],
   "source": [
    "np.info(np)"
   ]
  },
  {
   "cell_type": "code",
   "execution_count": null,
   "id": "79e160d3-2018-4c95-9a3c-ed161748fd95",
   "metadata": {
    "tags": []
   },
   "outputs": [],
   "source": [
    "np.info(np.array)"
   ]
  },
  {
   "cell_type": "code",
   "execution_count": null,
   "id": "5b0ac112-3260-4e44-9242-52e94f64d288",
   "metadata": {
    "tags": []
   },
   "outputs": [],
   "source": [
    "np.info(np.sin)"
   ]
  },
  {
   "cell_type": "code",
   "execution_count": null,
   "id": "e1072de6-b843-487b-a39b-6e282986a037",
   "metadata": {},
   "outputs": [],
   "source": []
  }
 ],
 "metadata": {
  "kernelspec": {
   "display_name": "Python 3 (ipykernel)",
   "language": "python",
   "name": "python3"
  },
  "language_info": {
   "codemirror_mode": {
    "name": "ipython",
    "version": 3
   },
   "file_extension": ".py",
   "mimetype": "text/x-python",
   "name": "python",
   "nbconvert_exporter": "python",
   "pygments_lexer": "ipython3",
   "version": "3.11.5"
  }
 },
 "nbformat": 4,
 "nbformat_minor": 5
}
