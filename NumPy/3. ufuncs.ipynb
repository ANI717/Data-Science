{
 "cells": [
  {
   "cell_type": "markdown",
   "id": "fa825051-b526-4755-8998-8c5fc20a8307",
   "metadata": {},
   "source": [
    "https://numpy.org/doc/stable/reference/ufuncs.html#available-ufuncs"
   ]
  },
  {
   "cell_type": "code",
   "execution_count": null,
   "id": "08ac5085-99a4-4338-9896-6669c2c8eb56",
   "metadata": {
    "tags": []
   },
   "outputs": [],
   "source": [
    "import numpy as np"
   ]
  },
  {
   "cell_type": "code",
   "execution_count": null,
   "id": "53017a0a-f6f5-4cd5-a1a0-f53ad14648cc",
   "metadata": {
    "tags": []
   },
   "outputs": [],
   "source": [
    "data = np.array([0,1,2,3,4,5,6,7,8,9,10])"
   ]
  },
  {
   "cell_type": "code",
   "execution_count": null,
   "id": "3ebd9d72-f99a-4ab3-bcf7-02992c7ff659",
   "metadata": {
    "tags": []
   },
   "outputs": [],
   "source": [
    "data_mixed = np.array([-5,-4,-3,-2,-1,0,1,2,3,4,5])"
   ]
  },
  {
   "cell_type": "markdown",
   "id": "e52b80fe-001a-4e4e-9d89-005755793be8",
   "metadata": {},
   "source": [
    "##### square root"
   ]
  },
  {
   "cell_type": "code",
   "execution_count": null,
   "id": "70cc4c88-c098-4f52-a897-85da69cf2026",
   "metadata": {
    "tags": []
   },
   "outputs": [],
   "source": [
    "np.sqrt(data)"
   ]
  },
  {
   "cell_type": "markdown",
   "id": "fa319399-a14e-4054-94a4-bfc5f1f394e9",
   "metadata": {},
   "source": [
    "##### absolute value"
   ]
  },
  {
   "cell_type": "code",
   "execution_count": null,
   "id": "a01985a3-a24f-4fb5-83df-313cdf42296d",
   "metadata": {
    "tags": []
   },
   "outputs": [],
   "source": [
    "np.abs(data_mixed)"
   ]
  },
  {
   "cell_type": "markdown",
   "id": "44750cb1-8d77-47a4-af53-9ec867251b74",
   "metadata": {},
   "source": [
    "##### exponents"
   ]
  },
  {
   "cell_type": "code",
   "execution_count": null,
   "id": "8b0ad51b-9e8e-4857-8018-69d554f632db",
   "metadata": {
    "tags": []
   },
   "outputs": [],
   "source": [
    "np.exp(data)"
   ]
  },
  {
   "cell_type": "markdown",
   "id": "5cc0493b-81a3-42fd-b1ae-191251c002b3",
   "metadata": {},
   "source": [
    "##### min-max"
   ]
  },
  {
   "cell_type": "code",
   "execution_count": null,
   "id": "5e779f8f-5e46-4318-a9db-98d1c1b29d50",
   "metadata": {
    "tags": []
   },
   "outputs": [],
   "source": [
    "np.min(data)"
   ]
  },
  {
   "cell_type": "code",
   "execution_count": null,
   "id": "5ca34065-088f-4868-9b4d-df52a9b27358",
   "metadata": {
    "tags": []
   },
   "outputs": [],
   "source": [
    "np.max(data)"
   ]
  },
  {
   "cell_type": "markdown",
   "id": "8921c70b-61bd-4417-b6f9-df4c22ba0b12",
   "metadata": {},
   "source": [
    "##### sign"
   ]
  },
  {
   "cell_type": "code",
   "execution_count": null,
   "id": "4750603c-1b42-4152-ba0f-5f763b2b0ecf",
   "metadata": {
    "tags": []
   },
   "outputs": [],
   "source": [
    "np.sign(data_mixed)"
   ]
  },
  {
   "cell_type": "markdown",
   "id": "554f4d03-9234-4b4e-8a51-1aebbba69617",
   "metadata": {},
   "source": [
    "##### mathematical operations"
   ]
  },
  {
   "cell_type": "code",
   "execution_count": null,
   "id": "206b30b8-3d65-45a8-92cf-13199712f166",
   "metadata": {
    "tags": []
   },
   "outputs": [],
   "source": [
    "-data"
   ]
  },
  {
   "cell_type": "code",
   "execution_count": null,
   "id": "cdcd5785-017f-4596-98dd-dcee5df826cb",
   "metadata": {
    "tags": []
   },
   "outputs": [],
   "source": [
    "np.sin(data)"
   ]
  },
  {
   "cell_type": "code",
   "execution_count": null,
   "id": "75d75dbe-f9ff-4965-a562-38f8a558d2d5",
   "metadata": {
    "tags": []
   },
   "outputs": [],
   "source": [
    "np.cos(data)"
   ]
  },
  {
   "cell_type": "code",
   "execution_count": null,
   "id": "a5f91939-c20b-4da4-b2eb-e8cb71b7e585",
   "metadata": {
    "tags": []
   },
   "outputs": [],
   "source": [
    "np.tan(data)"
   ]
  },
  {
   "cell_type": "code",
   "execution_count": null,
   "id": "e8fa1e72-32b1-4ea9-ba60-b6437e31e7c6",
   "metadata": {
    "tags": []
   },
   "outputs": [],
   "source": [
    "np.log(data)"
   ]
  },
  {
   "cell_type": "markdown",
   "id": "34800451-a35d-433c-a96d-07822b39beff",
   "metadata": {
    "tags": []
   },
   "source": [
    "##### nan = not a number"
   ]
  },
  {
   "cell_type": "code",
   "execution_count": null,
   "id": "c8e76fd0-372c-4a7e-924a-27bff62f5ece",
   "metadata": {
    "tags": []
   },
   "outputs": [],
   "source": [
    "np.log(data_mixed)"
   ]
  },
  {
   "cell_type": "code",
   "execution_count": null,
   "id": "b4d81a77-2829-4f2d-9805-bd96caa5c782",
   "metadata": {},
   "outputs": [],
   "source": []
  }
 ],
 "metadata": {
  "kernelspec": {
   "display_name": "Python 3 (ipykernel)",
   "language": "python",
   "name": "python3"
  },
  "language_info": {
   "codemirror_mode": {
    "name": "ipython",
    "version": 3
   },
   "file_extension": ".py",
   "mimetype": "text/x-python",
   "name": "python",
   "nbconvert_exporter": "python",
   "pygments_lexer": "ipython3",
   "version": "3.11.5"
  }
 },
 "nbformat": 4,
 "nbformat_minor": 5
}
