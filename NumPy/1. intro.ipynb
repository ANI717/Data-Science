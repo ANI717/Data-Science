{
 "cells": [
  {
   "cell_type": "markdown",
   "id": "c7dd4a50-cb49-4d8b-9d50-8a13fe58fedc",
   "metadata": {},
   "source": [
    "##### NumPy = Numeric Python\n",
    "##### ndarray = n-dimentional array"
   ]
  },
  {
   "cell_type": "code",
   "execution_count": null,
   "id": "6d5ca147-417a-4f44-8363-31a388703e2a",
   "metadata": {
    "tags": []
   },
   "outputs": [],
   "source": [
    "import numpy as np"
   ]
  },
  {
   "cell_type": "code",
   "execution_count": null,
   "id": "ca22045d-1b90-4212-85c3-1f6b85183b46",
   "metadata": {
    "tags": []
   },
   "outputs": [],
   "source": [
    "np.array([0,1,2,3,4,5])"
   ]
  },
  {
   "cell_type": "markdown",
   "id": "4855dcf0-cceb-48ac-b298-d0d734baab50",
   "metadata": {},
   "source": [
    "##### Shape"
   ]
  },
  {
   "cell_type": "code",
   "execution_count": null,
   "id": "4f2a64e9-3d8f-4283-a957-3a72cfd3ea65",
   "metadata": {
    "tags": []
   },
   "outputs": [],
   "source": [
    "data = np.array([0,1,2,3,4,5])\n",
    "data.shape"
   ]
  },
  {
   "cell_type": "markdown",
   "id": "53ad27f4-2b7a-40e2-b316-646bb15dda6c",
   "metadata": {
    "tags": []
   },
   "source": [
    "##### Range"
   ]
  },
  {
   "cell_type": "code",
   "execution_count": null,
   "id": "dc56d435-3b79-489e-a2d5-e21268e5025e",
   "metadata": {
    "tags": []
   },
   "outputs": [],
   "source": [
    "np.arange(10)"
   ]
  },
  {
   "cell_type": "code",
   "execution_count": null,
   "id": "ba6fca3f-44b0-4dfd-863d-ee56ae6a6189",
   "metadata": {
    "tags": []
   },
   "outputs": [],
   "source": [
    "np.arange(0, 10, 2)"
   ]
  },
  {
   "cell_type": "markdown",
   "id": "dbd4b39a-9257-4d9e-8c42-5c273ce53fab",
   "metadata": {
    "tags": []
   },
   "source": [
    "##### Zeros"
   ]
  },
  {
   "cell_type": "code",
   "execution_count": null,
   "id": "0eaf020c-471b-4424-9aac-02271669037e",
   "metadata": {},
   "outputs": [],
   "source": [
    "np.zeros(10)"
   ]
  },
  {
   "cell_type": "code",
   "execution_count": null,
   "id": "8efdefbd-3fb6-4e21-b853-4f10609c3f2d",
   "metadata": {
    "tags": []
   },
   "outputs": [],
   "source": [
    "np.zeros((2, 10))"
   ]
  },
  {
   "cell_type": "markdown",
   "id": "4ef18887-ea0e-4c57-aab6-789cafaee0cd",
   "metadata": {},
   "source": [
    "##### Full"
   ]
  },
  {
   "cell_type": "code",
   "execution_count": null,
   "id": "e4acb2f0-be5f-41af-a88b-bb57e3156367",
   "metadata": {
    "tags": []
   },
   "outputs": [],
   "source": [
    "np.full((10), 5)"
   ]
  },
  {
   "cell_type": "code",
   "execution_count": null,
   "id": "20133934-8db1-4a3a-bf95-b8beecf704cb",
   "metadata": {
    "tags": []
   },
   "outputs": [],
   "source": [
    "np.full((2, 10), 5)"
   ]
  },
  {
   "cell_type": "markdown",
   "id": "c1d347a2-dc78-4f7d-ba67-afebdf3830f4",
   "metadata": {},
   "source": [
    "##### List to NumPy Array"
   ]
  },
  {
   "cell_type": "code",
   "execution_count": null,
   "id": "d882de22-994d-40e1-8fa4-fb7dcfd68465",
   "metadata": {
    "tags": []
   },
   "outputs": [],
   "source": [
    "list = [0, 1, 2, 3]"
   ]
  },
  {
   "cell_type": "code",
   "execution_count": null,
   "id": "cd85eb6f-5189-47b5-9c4e-c17f664a34ed",
   "metadata": {
    "tags": []
   },
   "outputs": [],
   "source": [
    "np_array = np.array(list)\n",
    "np_array"
   ]
  },
  {
   "cell_type": "markdown",
   "id": "0da3d84b-0f99-4bec-b489-d9b77b824a54",
   "metadata": {
    "tags": []
   },
   "source": [
    "##### Indexing"
   ]
  },
  {
   "cell_type": "code",
   "execution_count": null,
   "id": "d422a60b-0e5b-4f51-9818-112019ae6751",
   "metadata": {
    "tags": []
   },
   "outputs": [],
   "source": [
    "data = np.array([[1, 2], [3, 4], [5, 6]])"
   ]
  },
  {
   "cell_type": "code",
   "execution_count": null,
   "id": "88d86ffa-43a5-49a1-a8ed-1a6833243977",
   "metadata": {
    "tags": []
   },
   "outputs": [],
   "source": [
    "data[1]"
   ]
  },
  {
   "cell_type": "code",
   "execution_count": null,
   "id": "92a45548-12ec-4072-a4ea-05ff8698aba8",
   "metadata": {
    "tags": []
   },
   "outputs": [],
   "source": [
    "data[1, 1]"
   ]
  },
  {
   "cell_type": "code",
   "execution_count": null,
   "id": "05035ec6-9e82-4fcf-b4e7-89d4b86bf386",
   "metadata": {},
   "outputs": [],
   "source": [
    "data[[1,2]]"
   ]
  },
  {
   "cell_type": "code",
   "execution_count": null,
   "id": "414df23d-a3ff-45da-b97a-209747d9685d",
   "metadata": {},
   "outputs": [],
   "source": []
  }
 ],
 "metadata": {
  "kernelspec": {
   "display_name": "Python 3 (ipykernel)",
   "language": "python",
   "name": "python3"
  },
  "language_info": {
   "codemirror_mode": {
    "name": "ipython",
    "version": 3
   },
   "file_extension": ".py",
   "mimetype": "text/x-python",
   "name": "python",
   "nbconvert_exporter": "python",
   "pygments_lexer": "ipython3",
   "version": "3.11.5"
  }
 },
 "nbformat": 4,
 "nbformat_minor": 5
}
