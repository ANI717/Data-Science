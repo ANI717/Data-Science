{
 "cells": [
  {
   "cell_type": "code",
   "execution_count": 1,
   "id": "42bd6c3d-47a4-4cfc-a623-c0e2c866580f",
   "metadata": {
    "tags": []
   },
   "outputs": [],
   "source": [
    "import numpy as np"
   ]
  },
  {
   "cell_type": "markdown",
   "id": "1f0c45ac-7ad8-4c9d-b5dd-72d550d36c41",
   "metadata": {},
   "source": [
    "##### numerical"
   ]
  },
  {
   "cell_type": "code",
   "execution_count": 6,
   "id": "bc4615d5-6f82-4e68-a064-cf044229405e",
   "metadata": {
    "tags": []
   },
   "outputs": [],
   "source": [
    "data = np.array([2,5,8,4,1,7,4,6,1,2])"
   ]
  },
  {
   "cell_type": "code",
   "execution_count": 7,
   "id": "139f01ea-4764-4d02-8bd7-65812d665cb8",
   "metadata": {
    "tags": []
   },
   "outputs": [
    {
     "data": {
      "text/plain": [
       "array([1, 1, 2, 2, 4, 4, 5, 6, 7, 8])"
      ]
     },
     "execution_count": 7,
     "metadata": {},
     "output_type": "execute_result"
    }
   ],
   "source": [
    "np.sort(data)"
   ]
  },
  {
   "cell_type": "markdown",
   "id": "95d27ca6-9c93-4ee7-82f5-2c4c051cffca",
   "metadata": {},
   "source": [
    "##### alphabetical"
   ]
  },
  {
   "cell_type": "code",
   "execution_count": 8,
   "id": "c2f23ebe-e42a-40de-a6ac-df985997f9cd",
   "metadata": {
    "tags": []
   },
   "outputs": [],
   "source": [
    "data = np.array([\"aaa\", \"aab\", \"aba\", \"AAA\", \"bbc\", \"bBc\", \"bbC\"])"
   ]
  },
  {
   "cell_type": "code",
   "execution_count": 9,
   "id": "f5345e2a-8892-439c-8d2e-2f84434d80da",
   "metadata": {
    "tags": []
   },
   "outputs": [
    {
     "data": {
      "text/plain": [
       "array(['AAA', 'aaa', 'aab', 'aba', 'bBc', 'bbC', 'bbc'], dtype='<U3')"
      ]
     },
     "execution_count": 9,
     "metadata": {},
     "output_type": "execute_result"
    }
   ],
   "source": [
    "np.sort(data)"
   ]
  },
  {
   "cell_type": "markdown",
   "id": "b5f8e43a-8358-424b-bb5d-4b4f8aa0e993",
   "metadata": {},
   "source": [
    "##### boolian"
   ]
  },
  {
   "cell_type": "code",
   "execution_count": 10,
   "id": "ace89c9e-27de-4eaa-acef-4db370ecf04f",
   "metadata": {
    "tags": []
   },
   "outputs": [],
   "source": [
    "data = np.array([True, False, True, False, False])"
   ]
  },
  {
   "cell_type": "code",
   "execution_count": 11,
   "id": "3ce91974-5fa6-41c1-bb85-1e21ea36bc8e",
   "metadata": {
    "tags": []
   },
   "outputs": [
    {
     "data": {
      "text/plain": [
       "array([False, False, False,  True,  True])"
      ]
     },
     "execution_count": 11,
     "metadata": {},
     "output_type": "execute_result"
    }
   ],
   "source": [
    "np.sort(data)"
   ]
  },
  {
   "cell_type": "markdown",
   "id": "9ae0fc2c-1d1a-4474-93cd-eb91e34b37e5",
   "metadata": {},
   "source": [
    "##### mixed"
   ]
  },
  {
   "cell_type": "code",
   "execution_count": 19,
   "id": "ab4a4001-89d8-47ab-a298-3230088b5e92",
   "metadata": {
    "tags": []
   },
   "outputs": [
    {
     "data": {
      "text/plain": [
       "array([0, 0, 0, 1, 1, 1, 1, 2, 2, 4, 4, 5, 6, 7, 8])"
      ]
     },
     "execution_count": 19,
     "metadata": {},
     "output_type": "execute_result"
    }
   ],
   "source": [
    "np.sort([2,5,8,4,1,7,4,6,1,2,True, False, True, False, False])"
   ]
  },
  {
   "cell_type": "code",
   "execution_count": 20,
   "id": "38642121-f35b-4927-bbc0-c00567811f5c",
   "metadata": {
    "tags": []
   },
   "outputs": [
    {
     "data": {
      "text/plain": [
       "array(['1', '1', '2', '2', '4', '4', '5', '6', '7', '8', 'AAA', 'False',\n",
       "       'False', 'False', 'True', 'True', 'aaa', 'aab', 'aba', 'bBc',\n",
       "       'bbC', 'bbc'], dtype='<U11')"
      ]
     },
     "execution_count": 20,
     "metadata": {},
     "output_type": "execute_result"
    }
   ],
   "source": [
    "np.sort([2,5,8,4,1,7,4,6,1,2,\"aaa\", \"aab\", \"aba\", \"AAA\", \"bbc\", \"bBc\", \"bbC\",True, False, True, False, False])"
   ]
  },
  {
   "cell_type": "markdown",
   "id": "bc6c6e1b-9d13-455d-8bd2-69759e2b8e57",
   "metadata": {},
   "source": [
    "##### 2-d array"
   ]
  },
  {
   "cell_type": "code",
   "execution_count": 21,
   "id": "fe88ab56-7be3-49f0-9dda-185cb1efccfa",
   "metadata": {
    "tags": []
   },
   "outputs": [],
   "source": [
    "data = np.array([[2,5,7,6,9],\n",
    "                 [1,4,8,3,5]])"
   ]
  },
  {
   "cell_type": "code",
   "execution_count": 23,
   "id": "d77eb8bb-abb7-4725-bad4-6ae876f94ae4",
   "metadata": {
    "tags": []
   },
   "outputs": [
    {
     "data": {
      "text/plain": [
       "array([[2, 5, 6, 7, 9],\n",
       "       [1, 3, 4, 5, 8]])"
      ]
     },
     "execution_count": 23,
     "metadata": {},
     "output_type": "execute_result"
    }
   ],
   "source": [
    "np.sort(data)"
   ]
  },
  {
   "cell_type": "code",
   "execution_count": null,
   "id": "397a27f9-40c8-41af-b656-0cf874b0fd89",
   "metadata": {},
   "outputs": [],
   "source": []
  }
 ],
 "metadata": {
  "kernelspec": {
   "display_name": "Python 3 (ipykernel)",
   "language": "python",
   "name": "python3"
  },
  "language_info": {
   "codemirror_mode": {
    "name": "ipython",
    "version": 3
   },
   "file_extension": ".py",
   "mimetype": "text/x-python",
   "name": "python",
   "nbconvert_exporter": "python",
   "pygments_lexer": "ipython3",
   "version": "3.11.5"
  }
 },
 "nbformat": 4,
 "nbformat_minor": 5
}
