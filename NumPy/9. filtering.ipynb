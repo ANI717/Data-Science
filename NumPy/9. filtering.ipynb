{
 "cells": [
  {
   "cell_type": "code",
   "execution_count": null,
   "id": "69084750-7bb4-4ff6-92cb-81207c7e5204",
   "metadata": {
    "tags": []
   },
   "outputs": [],
   "source": [
    "import numpy as np"
   ]
  },
  {
   "cell_type": "code",
   "execution_count": null,
   "id": "0f7e0848-7eea-46e2-a0f3-2ca70629ae59",
   "metadata": {
    "tags": []
   },
   "outputs": [],
   "source": [
    "data = np.array([1,2,3,4,5])"
   ]
  },
  {
   "cell_type": "code",
   "execution_count": null,
   "id": "7f8487a6-5c63-41ac-a547-216b4974f513",
   "metadata": {
    "tags": []
   },
   "outputs": [],
   "source": [
    "mask = np.array([True, True, False, False, True])"
   ]
  },
  {
   "cell_type": "code",
   "execution_count": null,
   "id": "9cb28e08-12bf-4b41-89f4-e752d3f2d22f",
   "metadata": {
    "tags": []
   },
   "outputs": [],
   "source": [
    "data[mask]"
   ]
  },
  {
   "cell_type": "code",
   "execution_count": null,
   "id": "62b91a9b-c269-4e5f-948e-a5fb07a27e6f",
   "metadata": {
    "tags": []
   },
   "outputs": [],
   "source": [
    "data % 2 == 0"
   ]
  },
  {
   "cell_type": "code",
   "execution_count": null,
   "id": "dd0c8873-7d80-45f2-8ad0-4a80dd14ed73",
   "metadata": {
    "tags": []
   },
   "outputs": [],
   "source": [
    "data[data % 2 == 0]"
   ]
  },
  {
   "cell_type": "code",
   "execution_count": null,
   "id": "e34bc2c4-331e-4737-8e13-64499768362f",
   "metadata": {},
   "outputs": [],
   "source": []
  }
 ],
 "metadata": {
  "kernelspec": {
   "display_name": "Python 3 (ipykernel)",
   "language": "python",
   "name": "python3"
  },
  "language_info": {
   "codemirror_mode": {
    "name": "ipython",
    "version": 3
   },
   "file_extension": ".py",
   "mimetype": "text/x-python",
   "name": "python",
   "nbconvert_exporter": "python",
   "pygments_lexer": "ipython3",
   "version": "3.11.5"
  }
 },
 "nbformat": 4,
 "nbformat_minor": 5
}
