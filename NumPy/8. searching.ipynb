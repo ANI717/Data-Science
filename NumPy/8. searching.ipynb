{
 "cells": [
  {
   "cell_type": "code",
   "execution_count": null,
   "id": "14624d5c-041e-4998-8ba8-416fe5b2ac9a",
   "metadata": {
    "tags": []
   },
   "outputs": [],
   "source": [
    "import numpy as np"
   ]
  },
  {
   "cell_type": "code",
   "execution_count": null,
   "id": "0b8816ae-c079-4fca-ab08-a6ff2afe2614",
   "metadata": {
    "tags": []
   },
   "outputs": [],
   "source": [
    "data = np.array([1,2,5,6,3,4,6,2,3,5,6,7,5])"
   ]
  },
  {
   "cell_type": "code",
   "execution_count": null,
   "id": "a297845c-8428-41ba-a1ef-91e713995ec3",
   "metadata": {
    "tags": []
   },
   "outputs": [],
   "source": [
    "np.where(data == 5)"
   ]
  },
  {
   "cell_type": "code",
   "execution_count": null,
   "id": "d5d0b401-2d34-4fb2-8336-bcba2a8bd2b7",
   "metadata": {
    "tags": []
   },
   "outputs": [],
   "source": [
    "np.where(data < 5)"
   ]
  },
  {
   "cell_type": "code",
   "execution_count": null,
   "id": "5291a6fb-c494-4324-b7f4-baf963940952",
   "metadata": {
    "tags": []
   },
   "outputs": [],
   "source": [
    "np.where(data % 2 == 0)"
   ]
  },
  {
   "cell_type": "code",
   "execution_count": null,
   "id": "89a9cde5-eee5-4e2d-a47c-7d7250d53677",
   "metadata": {},
   "outputs": [],
   "source": []
  }
 ],
 "metadata": {
  "kernelspec": {
   "display_name": "Python 3 (ipykernel)",
   "language": "python",
   "name": "python3"
  },
  "language_info": {
   "codemirror_mode": {
    "name": "ipython",
    "version": 3
   },
   "file_extension": ".py",
   "mimetype": "text/x-python",
   "name": "python",
   "nbconvert_exporter": "python",
   "pygments_lexer": "ipython3",
   "version": "3.11.5"
  }
 },
 "nbformat": 4,
 "nbformat_minor": 5
}
