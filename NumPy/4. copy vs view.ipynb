{
 "cells": [
  {
   "cell_type": "code",
   "execution_count": 1,
   "id": "6f56d559-e09b-421a-9086-eaadab70bf82",
   "metadata": {
    "tags": []
   },
   "outputs": [],
   "source": [
    "import numpy as np"
   ]
  },
  {
   "cell_type": "markdown",
   "id": "f7a202bc-a6bd-4a14-bb27-f6aa102570c4",
   "metadata": {},
   "source": [
    "##### view"
   ]
  },
  {
   "cell_type": "code",
   "execution_count": 3,
   "id": "e02804a2-5085-432f-b8be-1c3c242e5805",
   "metadata": {
    "tags": []
   },
   "outputs": [],
   "source": [
    "data = np.array([0,1,2,3,4,5])"
   ]
  },
  {
   "cell_type": "code",
   "execution_count": 6,
   "id": "ac0ca7de-4855-4747-8ddd-b6b660e036f3",
   "metadata": {
    "tags": []
   },
   "outputs": [],
   "source": [
    "data_view = data.view()"
   ]
  },
  {
   "cell_type": "code",
   "execution_count": 7,
   "id": "3fe424ad-a3ca-4848-b3bf-25fe291dccf6",
   "metadata": {
    "tags": []
   },
   "outputs": [],
   "source": [
    "data_view[3] = 100"
   ]
  },
  {
   "cell_type": "code",
   "execution_count": 8,
   "id": "d13f5c57-1441-46de-b6fc-0782421c0a10",
   "metadata": {
    "tags": []
   },
   "outputs": [
    {
     "data": {
      "text/plain": [
       "array([  0,   1,   2, 100,   4,   5])"
      ]
     },
     "execution_count": 8,
     "metadata": {},
     "output_type": "execute_result"
    }
   ],
   "source": [
    "data"
   ]
  },
  {
   "cell_type": "markdown",
   "id": "37faf485-2313-4703-b5e4-39e7d25886f0",
   "metadata": {},
   "source": [
    "##### copy"
   ]
  },
  {
   "cell_type": "code",
   "execution_count": 9,
   "id": "7f507414-5583-4afe-9eeb-44b1e75fd337",
   "metadata": {
    "tags": []
   },
   "outputs": [],
   "source": [
    "data = np.array([0,1,2,3,4,5])"
   ]
  },
  {
   "cell_type": "code",
   "execution_count": 10,
   "id": "50ff609c-53a7-4a43-99f0-4278c6417f36",
   "metadata": {
    "tags": []
   },
   "outputs": [],
   "source": [
    "data_copy = data.copy()"
   ]
  },
  {
   "cell_type": "code",
   "execution_count": 11,
   "id": "06c43001-cbdd-484a-9722-4b870aa70ad5",
   "metadata": {
    "tags": []
   },
   "outputs": [],
   "source": [
    "data_copy[3] = 100"
   ]
  },
  {
   "cell_type": "code",
   "execution_count": 12,
   "id": "f159ff05-903a-4939-a95c-3e784dfb031d",
   "metadata": {
    "tags": []
   },
   "outputs": [
    {
     "data": {
      "text/plain": [
       "array([0, 1, 2, 3, 4, 5])"
      ]
     },
     "execution_count": 12,
     "metadata": {},
     "output_type": "execute_result"
    }
   ],
   "source": [
    "data"
   ]
  },
  {
   "cell_type": "code",
   "execution_count": null,
   "id": "f10502c7-f499-427b-89ac-6622d8039786",
   "metadata": {},
   "outputs": [],
   "source": []
  }
 ],
 "metadata": {
  "kernelspec": {
   "display_name": "Python 3 (ipykernel)",
   "language": "python",
   "name": "python3"
  },
  "language_info": {
   "codemirror_mode": {
    "name": "ipython",
    "version": 3
   },
   "file_extension": ".py",
   "mimetype": "text/x-python",
   "name": "python",
   "nbconvert_exporter": "python",
   "pygments_lexer": "ipython3",
   "version": "3.11.5"
  }
 },
 "nbformat": 4,
 "nbformat_minor": 5
}
