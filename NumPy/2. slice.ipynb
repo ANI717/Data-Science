{
 "cells": [
  {
   "cell_type": "code",
   "execution_count": null,
   "id": "7e9125c9-f048-4044-9691-c6ad434b3216",
   "metadata": {},
   "outputs": [],
   "source": [
    "import numpy as np"
   ]
  },
  {
   "cell_type": "markdown",
   "id": "fba670e1-03df-473b-88c5-c055c3dde6b1",
   "metadata": {},
   "source": [
    "#### 1-d array"
   ]
  },
  {
   "cell_type": "code",
   "execution_count": null,
   "id": "2c838a89-dc15-49ee-948f-7c9b88d5a528",
   "metadata": {
    "tags": []
   },
   "outputs": [],
   "source": [
    "data = np.array([0,1,2,3,4,5,6,7,8,9,10,11,12,13,14,15])"
   ]
  },
  {
   "cell_type": "markdown",
   "id": "be189820-262f-4033-be1d-deb4cf137d06",
   "metadata": {},
   "source": [
    "##### index starts from 0\n",
    "##### index 1 to everything before index 10"
   ]
  },
  {
   "cell_type": "code",
   "execution_count": null,
   "id": "21ccd2cc-4917-4a09-9bc2-9190ada4b0ee",
   "metadata": {
    "tags": []
   },
   "outputs": [],
   "source": [
    "data[1:10]"
   ]
  },
  {
   "cell_type": "code",
   "execution_count": null,
   "id": "38b721c6-57b9-4dd3-9962-d3e53fa43ced",
   "metadata": {
    "tags": []
   },
   "outputs": [],
   "source": [
    "data[:10]"
   ]
  },
  {
   "cell_type": "markdown",
   "id": "dde515d3-13b5-4c4a-a0c5-c6c04efd6020",
   "metadata": {},
   "source": [
    "##### negative slicing"
   ]
  },
  {
   "cell_type": "code",
   "execution_count": null,
   "id": "bd7a2ccf-2dc3-48e5-bbf1-15b556bc8e39",
   "metadata": {
    "tags": []
   },
   "outputs": [],
   "source": [
    "data[-5:-1]"
   ]
  },
  {
   "cell_type": "code",
   "execution_count": null,
   "id": "e86f1558-39c5-433e-8dec-163b9e0d813e",
   "metadata": {
    "tags": []
   },
   "outputs": [],
   "source": [
    "data[-5:]"
   ]
  },
  {
   "cell_type": "markdown",
   "id": "1e8c8cea-ebc7-4b5f-9565-79629a8b7c69",
   "metadata": {},
   "source": [
    "##### positive step"
   ]
  },
  {
   "cell_type": "code",
   "execution_count": null,
   "id": "dc937f9b-dbad-4a0c-b4a3-ea364dc72698",
   "metadata": {
    "tags": []
   },
   "outputs": [],
   "source": [
    "data[1:10:2]"
   ]
  },
  {
   "cell_type": "markdown",
   "id": "c0ddefb8-b1d4-47b3-aff9-ad3c1267a78c",
   "metadata": {},
   "source": [
    "##### negative step"
   ]
  },
  {
   "cell_type": "code",
   "execution_count": null,
   "id": "a9363c7f-df8a-476f-b140-d1baea512096",
   "metadata": {
    "tags": []
   },
   "outputs": [],
   "source": [
    "data[-1:-5:-1]"
   ]
  },
  {
   "cell_type": "markdown",
   "id": "8c779f7c-4843-40ad-b6a7-fb652d5c8e3e",
   "metadata": {},
   "source": [
    "#### 2-d array"
   ]
  },
  {
   "cell_type": "code",
   "execution_count": null,
   "id": "d8240a48-83da-41ed-9a01-d6bf06cc37a1",
   "metadata": {
    "tags": []
   },
   "outputs": [],
   "source": [
    "data = np.array([[1,2,3,4,5],\n",
    "                 [6,7,8,9,10],\n",
    "                 [11,12,13,14,15]])"
   ]
  },
  {
   "cell_type": "code",
   "execution_count": null,
   "id": "bcf363a5-c07c-44c6-9925-073b10944c4b",
   "metadata": {
    "tags": []
   },
   "outputs": [],
   "source": [
    "data[1,2]"
   ]
  },
  {
   "cell_type": "code",
   "execution_count": null,
   "id": "dc8751b6-bf56-4285-9585-0ea8e62a8c2a",
   "metadata": {
    "tags": []
   },
   "outputs": [],
   "source": [
    "data[:2, :3]"
   ]
  },
  {
   "cell_type": "code",
   "execution_count": null,
   "id": "d62bd616-1213-4ff6-a1a7-8db8b0d1bb72",
   "metadata": {},
   "outputs": [],
   "source": []
  }
 ],
 "metadata": {
  "kernelspec": {
   "display_name": "Python 3 (ipykernel)",
   "language": "python",
   "name": "python3"
  },
  "language_info": {
   "codemirror_mode": {
    "name": "ipython",
    "version": 3
   },
   "file_extension": ".py",
   "mimetype": "text/x-python",
   "name": "python",
   "nbconvert_exporter": "python",
   "pygments_lexer": "ipython3",
   "version": "3.11.5"
  }
 },
 "nbformat": 4,
 "nbformat_minor": 5
}
