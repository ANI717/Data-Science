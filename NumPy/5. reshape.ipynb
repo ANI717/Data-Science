{
 "cells": [
  {
   "cell_type": "code",
   "execution_count": null,
   "id": "cc545e90-4ffe-4197-9569-192a0bb85bd7",
   "metadata": {
    "tags": []
   },
   "outputs": [],
   "source": [
    "import numpy as np"
   ]
  },
  {
   "cell_type": "code",
   "execution_count": null,
   "id": "175d1590-1d74-4444-8ed8-455e0b67821c",
   "metadata": {
    "tags": []
   },
   "outputs": [],
   "source": [
    "data = np.array([1,2,3,4,5,6,7,8,9,10,11,12])"
   ]
  },
  {
   "cell_type": "code",
   "execution_count": null,
   "id": "f6f99f5d-c781-4427-8eeb-649cb414f19b",
   "metadata": {
    "tags": []
   },
   "outputs": [],
   "source": [
    "data.shape"
   ]
  },
  {
   "cell_type": "markdown",
   "id": "4ed90f67-6c2d-46ed-875a-984c27c7e8d1",
   "metadata": {},
   "source": [
    "##### reshape"
   ]
  },
  {
   "cell_type": "code",
   "execution_count": null,
   "id": "5e6b99e3-9f09-49d6-9f2b-571dd9b17804",
   "metadata": {
    "tags": []
   },
   "outputs": [],
   "source": [
    "data.reshape(3,4)"
   ]
  },
  {
   "cell_type": "code",
   "execution_count": null,
   "id": "59506cab-fef5-4e2d-b641-021757050231",
   "metadata": {
    "tags": []
   },
   "outputs": [],
   "source": [
    "data.reshape(3,2,2)"
   ]
  },
  {
   "cell_type": "markdown",
   "id": "a7dff49e-8a2b-4273-bc2d-5129d33acf39",
   "metadata": {},
   "source": [
    "##### flatten"
   ]
  },
  {
   "cell_type": "code",
   "execution_count": null,
   "id": "2b8bfdc8-41c9-480c-9894-e788025e3395",
   "metadata": {
    "tags": []
   },
   "outputs": [],
   "source": [
    "data_3d = data.reshape(3,2,2)"
   ]
  },
  {
   "cell_type": "code",
   "execution_count": null,
   "id": "7f07c040-3e4f-4216-9888-a0c17b932a9c",
   "metadata": {
    "tags": []
   },
   "outputs": [],
   "source": [
    "data_3d.reshape(-1)"
   ]
  },
  {
   "cell_type": "code",
   "execution_count": null,
   "id": "d50ac031-080a-4065-b595-c0197ba8e0b3",
   "metadata": {},
   "outputs": [],
   "source": []
  }
 ],
 "metadata": {
  "kernelspec": {
   "display_name": "Python 3 (ipykernel)",
   "language": "python",
   "name": "python3"
  },
  "language_info": {
   "codemirror_mode": {
    "name": "ipython",
    "version": 3
   },
   "file_extension": ".py",
   "mimetype": "text/x-python",
   "name": "python",
   "nbconvert_exporter": "python",
   "pygments_lexer": "ipython3",
   "version": "3.11.5"
  }
 },
 "nbformat": 4,
 "nbformat_minor": 5
}
