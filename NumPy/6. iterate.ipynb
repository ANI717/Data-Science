{
 "cells": [
  {
   "cell_type": "code",
   "execution_count": null,
   "id": "43c45239-3a60-4677-9dcf-fc5dd295a6f0",
   "metadata": {
    "tags": []
   },
   "outputs": [],
   "source": [
    "import numpy as np"
   ]
  },
  {
   "cell_type": "code",
   "execution_count": null,
   "id": "15d82b61-1d07-4c33-b84a-f7e2c7208e42",
   "metadata": {
    "tags": []
   },
   "outputs": [],
   "source": [
    "data = np.arange(30).reshape(2,3,5)"
   ]
  },
  {
   "cell_type": "code",
   "execution_count": null,
   "id": "244f4e2f-0350-4bee-9236-7552735aa37a",
   "metadata": {
    "tags": []
   },
   "outputs": [],
   "source": [
    "data"
   ]
  },
  {
   "cell_type": "code",
   "execution_count": null,
   "id": "edd93237-96eb-452d-b928-c4ecea4ec3d6",
   "metadata": {
    "tags": []
   },
   "outputs": [],
   "source": [
    "for z in data:\n",
    "    for y in z:\n",
    "        for x in y:\n",
    "            print(x)"
   ]
  },
  {
   "cell_type": "code",
   "execution_count": null,
   "id": "72d27109-7353-40b9-a712-2a683378a31f",
   "metadata": {
    "tags": []
   },
   "outputs": [],
   "source": [
    "for x in np.nditer(data):\n",
    "    print(x)"
   ]
  },
  {
   "cell_type": "code",
   "execution_count": null,
   "id": "4c567c13-867f-42f7-87bd-ff3d69003222",
   "metadata": {},
   "outputs": [],
   "source": []
  }
 ],
 "metadata": {
  "kernelspec": {
   "display_name": "Python 3 (ipykernel)",
   "language": "python",
   "name": "python3"
  },
  "language_info": {
   "codemirror_mode": {
    "name": "ipython",
    "version": 3
   },
   "file_extension": ".py",
   "mimetype": "text/x-python",
   "name": "python",
   "nbconvert_exporter": "python",
   "pygments_lexer": "ipython3",
   "version": "3.11.5"
  }
 },
 "nbformat": 4,
 "nbformat_minor": 5
}
